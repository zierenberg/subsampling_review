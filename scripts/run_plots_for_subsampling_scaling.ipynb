{
 "cells": [
  {
   "cell_type": "code",
   "execution_count": 1,
   "metadata": {
    "pycharm": {
     "name": "#%%\n"
    }
   },
   "outputs": [
    {
     "name": "stderr",
     "output_type": "stream",
     "text": [
      "[WARNING @ nngt.generation.graph_connectivity]: from runpy.py (L194) - No module named 'nngt.generation.cconnect'\n",
      "\tBuilding module nngt.generation.cconnect failed: [\"distutils.errors.CompileError: command 'clang' failed with exit status 1\\n\"]\n",
      "\tCython import failed, using non-multithreaded algorithms.\n",
      "[WARNING @ nngt.generation.graph_connectivity]: from runpy.py (L194) - Building module nngt.generation.cconnect failed: [\"distutils.errors.CompileError: command 'clang' failed with exit status 1\\n\"]\n",
      "\tBuilding module nngt.generation.cconnect failed: [\"distutils.errors.CompileError: command 'clang' failed with exit status 1\\n\"]\n",
      "\tCython import failed, using non-multithreaded algorithms.\n"
     ]
    }
   ],
   "source": [
    "from matplotlib import pyplot as plt\n",
    "plt.rcParams['text.usetex'] = False\n",
    "import numpy as np\n",
    "import networkx as nx\n",
    "import nngt as nngt\n",
    "#-->pip install powerlaw\n",
    "import powerlaw"
   ]
  },
  {
   "cell_type": "code",
   "execution_count": 1,
   "metadata": {
    "pycharm": {
     "name": "#%%\n"
    }
   },
   "outputs": [],
   "source": []
  },
  {
   "cell_type": "code",
   "execution_count": 2,
   "outputs": [],
   "source": [
    "%matplotlib inline"
   ],
   "metadata": {
    "collapsed": false,
    "pycharm": {
     "name": "#%%\n"
    }
   }
  },
  {
   "cell_type": "code",
   "execution_count": 3,
   "outputs": [],
   "source": [
    "#smoothing function, should be substituted by the log-binning later\n",
    "def logAvDataExtrapolated(dist,M):\n",
    "# data one dimentional\n",
    "#gelogtExtra is extrapolated gelogt -\n",
    "# for every i gelogtExtra(i) is an average of i/M points around i\n",
    "#[s1, s2] = size(dataIn)\n",
    "    dist = np.array (dist)\n",
    "    sizedist = np.size(dist)\n",
    "    gelogtExtra = np.zeros(sizedist)\n",
    "\n",
    "    i = 0\n",
    "    while np.ceil(i/M)<2:\n",
    "        gelogtExtra[i]=dist[i]\n",
    "        i = i+1\n",
    "    while np.round(i+0.5* np.ceil(i/M)) < sizedist:\n",
    "        i0 = int(np.round(i - 0.5 * np.ceil(i/M)))\n",
    "        i1 = int(np.round(i + 0.5 * np.ceil(i/M)))\n",
    "        gelogtExtra[i] = np.sum( dist[i0:i1]) / (i1-i0+1)\n",
    "        i = i + 1\n",
    "    return gelogtExtra"
   ],
   "metadata": {
    "collapsed": false,
    "pycharm": {
     "name": "#%%\n"
    }
   }
  },
  {
   "cell_type": "code",
   "execution_count": 4,
   "outputs": [],
   "source": [
    "#computing surviving function\n",
    "def CDFu(x,m):\n",
    "    cdf = np.zeros(len(x)-m)\n",
    "    for i in range(m,np.size(x)):\n",
    "        cdf[i-m] = np.sum(x[i:])\n",
    "    return cdf\n",
    "\n",
    "#cutting the hairs\n",
    "\n",
    "def DistCut(x,c):\n",
    "    x = np.array(x)\n",
    "    Cut = x[c:] / np.sum(x[c:] )\n",
    "    return Cut\n",
    "\n",
    "    #generate NIster iteration of subsampling of graph G of size NSize.\n",
    "    # Sampling NSub nodes. return degree distribution\n",
    "def ManySubsamplingDegree(G,NSize,NSub,NIter,cut):\n",
    "    NumberOfnodes=0\n",
    "    degree_freq_final = np.zeros(NSub)\n",
    "    nodes = range (0, NSize)\n",
    "    for i in range(NIter):\n",
    "        permutenodes = np.random.permutation(nodes)\n",
    "        Gsub = G.subgraph(permutenodes[0:NSub])\n",
    "        degg= np.array(nx.degree_histogram(Gsub))\n",
    "        degree_freq_final = degree_freq_final + np.pad(degg,(0,NSub - np.size(degg)),'constant')/NIter\n",
    "        NumberOfnodes+= len([i for i in [val for (node, val) in Gsub.degree()] if i > cut])\n",
    "    return degree_freq_final, NumberOfnodes/NIter"
   ],
   "metadata": {
    "collapsed": false,
    "pycharm": {
     "name": "#%%\n"
    }
   }
  },
  {
   "cell_type": "code",
   "execution_count": 5,
   "outputs": [
    {
     "name": "stdout",
     "output_type": "stream",
     "text": [
      "Calculating best minimal value for power law fit\n",
      "xmin progress: 99%\r"
     ]
    }
   ],
   "source": [
    "NSize = 100000\n",
    "m = 14\n",
    "G = nx.barabasi_albert_graph(NSize,m)\n",
    "degree_freq = nx.degree_histogram(G)\n",
    "degrees = range (len(degree_freq))\n",
    "\n",
    "#Power law fitting to estimate k_min\n",
    "fit = powerlaw.Fit([m for (l,m) in G.degree()], discrete=True)\n",
    "k_min=int(fit.xmin)\n",
    "alpha=fit.alpha"
   ],
   "metadata": {
    "collapsed": false,
    "pycharm": {
     "name": "#%%\n"
    }
   }
  },
  {
   "cell_type": "code",
   "execution_count": 6,
   "metadata": {
    "pycharm": {
     "name": "#%%\n"
    }
   },
   "outputs": [],
   "source": [
    "NSub = 1000\n",
    "NIter = 100\n",
    "Nall= len([i for i in [val for (node, val) in G.degree()] if i > k_min])\n",
    "degree_freq_sub_25,N25 = ManySubsamplingDegree(G,NSize,np.int(NSize/4),NIter,k_min)\n",
    "degree_freq_sub_50,N50 = ManySubsamplingDegree(G,NSize,np.int(NSize/2),NIter,k_min)\n",
    "degree_freq_sub_75,N75 = ManySubsamplingDegree(G,NSize,np.int(3*NSize/4),NIter,k_min)"
   ]
  },
  {
   "cell_type": "code",
   "execution_count": 7,
   "outputs": [],
   "source": [
    "degree_freq_sub_12,N12 = ManySubsamplingDegree(G,NSize,np.int(NSize/8),NIter,k_min)\n",
    "degree_freq_sub_36,N36 = ManySubsamplingDegree(G,NSize,np.int(3*NSize/8),NIter,k_min)\n",
    "degree_freq_sub_62,N62 = ManySubsamplingDegree(G,NSize,np.int(5*NSize/8),NIter,k_min)\n",
    "degree_freq_sub_87,N87 = ManySubsamplingDegree(G,NSize,np.int(7*NSize/8),NIter,k_min)"
   ],
   "metadata": {
    "collapsed": false,
    "pycharm": {
     "name": "#%%\n"
    }
   }
  },
  {
   "cell_type": "code",
   "execution_count": 8,
   "metadata": {
    "pycharm": {
     "name": "#%%\n"
    }
   },
   "outputs": [],
   "source": [
    "degree_extrapolated = logAvDataExtrapolated(degree_freq,10)\n",
    "degree_freq_sub_25_extr = logAvDataExtrapolated(degree_freq_sub_25,10)\n",
    "degree_freq_sub_50_extr = logAvDataExtrapolated(degree_freq_sub_50,10)\n",
    "degree_freq_sub_75_extr = logAvDataExtrapolated(degree_freq_sub_75,10)"
   ]
  },
  {
   "cell_type": "code",
   "execution_count": 8,
   "outputs": [],
   "source": [],
   "metadata": {
    "collapsed": false,
    "pycharm": {
     "name": "#%%\n"
    }
   }
  },
  {
   "cell_type": "code",
   "execution_count": 9,
   "metadata": {
    "pycharm": {
     "name": "#%%\n"
    }
   },
   "outputs": [
    {
     "data": {
      "text/plain": "<Figure size 432x288 with 1 Axes>",
      "image/png": "[encoded data removed]"
     },
     "metadata": {
      "needs_background": "light"
     },
     "output_type": "display_data"
    }
   ],
   "source": [
    "plt.rcParams[\"axes.edgecolor\"] = \"k\"\n",
    "plt.rcParams[\"axes.facecolor\"] = \"w\"\n",
    "plt.rcParams[\"axes.linewidth\"] = \"0.8\"\n",
    "plt.rcParams.update({'font.size': 12})\n",
    "\n",
    "plt.rcParams['pdf.fonttype'] = 42 # prepare as vector graphic\n",
    "plt.rcParams['ps.fonttype'] = 42\n",
    "\n",
    "plt.rcParams[\"font.family\"] = \"Helvetica\"\n",
    "c4 = plt.cm.Reds(100)\n",
    "c3 = plt.cm.Reds(160)\n",
    "c2 = plt.cm.Reds(200)\n",
    "c1 = plt.cm.Reds(250)\n",
    "\n",
    "ctheor = 'gray'\n",
    "\n",
    "cols = [c1, c4, c3, c2]\n",
    "\n",
    "\n",
    "\n",
    "#plt.plot(degrees[m:],np.array(degree_freq[m:])/2.0,'go-')\n",
    "m=15\n",
    "plt.plot(np.arange(m,np.size(degree_extrapolated)),np.array(degree_extrapolated[m:]),color = cols[0])\n",
    "plt.plot(np.arange(m,np.size(degree_freq_sub_25)),np.array(degree_freq_sub_25[m:]),color = cols[1])\n",
    "plt.plot(np.arange(m,np.size(degree_freq_sub_50)),np.array(degree_freq_sub_50[m:]),color = cols[2])\n",
    "plt.plot(np.arange(m,np.size(degree_freq_sub_75)),np.array(degree_freq_sub_75[m:]),color = cols[3])\n",
    "plt.xscale('log')\n",
    "plt.yscale('log')\n",
    "\n",
    "xx = np.arange(1,NSize)\n",
    "xxpower = np.power(xx,-3.0)\n",
    "xxdist = xxpower/ sum(xxpower)\n",
    "\n",
    "#plt.plot(xx,xxdist*(10**5)*10,'black')\n",
    "#plt.savefig('scale-free_network_degree.pdf')"
   ]
  },
  {
   "cell_type": "code",
   "execution_count": 10,
   "metadata": {
    "pycharm": {
     "name": "#%%\n"
    }
   },
   "outputs": [
    {
     "data": {
      "text/plain": "<Figure size 216x144 with 1 Axes>",
      "image/png": "[encoded data removed]"
     },
     "metadata": {
      "needs_background": "light"
     },
     "output_type": "display_data"
    }
   ],
   "source": [
    "fig = plt.figure(figsize=(3,2))\n",
    "\n",
    "plt.rcParams[\"axes.edgecolor\"] = \"k\"\n",
    "plt.rcParams[\"axes.facecolor\"] = \"w\"\n",
    "plt.rcParams[\"axes.linewidth\"] = \"0.8\"\n",
    "plt.rcParams.update({'font.size': 12})\n",
    "\n",
    "plt.rcParams['pdf.fonttype'] = 42 # prepare as vector graphic\n",
    "plt.rcParams['ps.fonttype'] = 42\n",
    "\n",
    "plt.rcParams[\"font.family\"] = \"Helvetica\"\n",
    "c4 = plt.cm.Reds(100)\n",
    "c3 = plt.cm.Reds(160)\n",
    "c2 = plt.cm.Reds(200)\n",
    "c1 = plt.cm.Reds(250)\n",
    "\n",
    "ctheor = 'gray'\n",
    "\n",
    "cols = [c1, c2, c3, c4]\n",
    "\n",
    "cut = k_min\n",
    "degree_freq_cut_cdf = CDFu (DistCut (logAvDataExtrapolated(degree_freq,10),cut),0)\n",
    "degree_freq_sub_25_cut_cdf = CDFu (DistCut( logAvDataExtrapolated(degree_freq_sub_25,10), cut),0)\n",
    "degree_freq_sub_50_cut_cdf = CDFu (DistCut( logAvDataExtrapolated(degree_freq_sub_50,10), cut),0)\n",
    "degree_freq_sub_75_cut_cdf = CDFu (DistCut( logAvDataExtrapolated(degree_freq_sub_75,10), cut),0)\n",
    "\n",
    "\n",
    "ax = plt.subplot(111)\n",
    "ax.plot(cut+np.arange(1,np.size(degree_freq_cut_cdf)+1),degree_freq_cut_cdf,color = cols[0],label=r'$N$')\n",
    "ax.plot(cut + np.arange(1,np.size(degree_freq_sub_75_cut_cdf)+1), degree_freq_sub_75_cut_cdf,color = cols[1],label=r'$3 \\cdot N/4$')\n",
    "ax.plot(cut + np.arange(1,np.size(degree_freq_sub_50_cut_cdf)+1), degree_freq_sub_50_cut_cdf,color = cols[2],label=r'$N/2$')\n",
    "ax.plot(cut + np.arange(1,np.size(degree_freq_sub_25_cut_cdf)+1), degree_freq_sub_25_cut_cdf,color = cols[3],label=r'$N/4$')\n",
    "\n",
    "\n",
    "\n",
    "#handles, labels = ax.get_legend_handles_labels()\n",
    "ax.legend( ncol=1, frameon =False, loc = 'upper right')\n",
    "\n",
    "ax.set_xlim(15,3*10**3)\n",
    "ax.set_ylim(10**(-5),3)\n",
    "ax.spines['right'].set_visible(False)\n",
    "ax.spines['top'].set_visible(False)\n",
    "ax.yaxis.set_ticks_position('left')\n",
    "ax.xaxis.set_ticks_position('bottom')\n",
    "\n",
    "ax.set_xlabel(r'$k$')\n",
    "ax.set_ylabel(r'$1 - \\mathrm{CDF}(k)$')\n",
    "ax.set_xscale('log')\n",
    "ax.set_yscale('log')\n",
    "ax.grid(False)\n",
    "\n",
    "\n",
    "plt.savefig('scale-free_network_CDF_unscaled.pdf',bbox_inches='tight')"
   ]
  },
  {
   "cell_type": "code",
   "execution_count": 11,
   "metadata": {
    "pycharm": {
     "name": "#%%\n"
    }
   },
   "outputs": [],
   "source": [
    "#important to remember, that the number of Nodes is [NSize/4,NSize/2,NSize*3/2,NSize].\n",
    "#However, the cumulative distribuion is built only considering those\n",
    "#nodes with a degree > kmin. As a consequence of this, one should only consider as a number of nodes,\n",
    "# number of nodes contribuiting in the cumulative distribution.\n",
    "\n"
   ]
  },
  {
   "cell_type": "code",
   "execution_count": 12,
   "metadata": {
    "pycharm": {
     "name": "#%%\n"
    }
   },
   "outputs": [
    {
     "data": {
      "text/plain": "<Figure size 216x144 with 1 Axes>",
      "image/png": "[encoded data removed]"
     },
     "metadata": {
      "needs_background": "light"
     },
     "output_type": "display_data"
    }
   ],
   "source": [
    "#Scaled plot\n",
    "fig = plt.figure(figsize=(3,2))\n",
    "plt.rcParams[\"axes.edgecolor\"] = \"k\"\n",
    "plt.rcParams[\"axes.facecolor\"] = \"w\"\n",
    "plt.rcParams[\"axes.linewidth\"] = \"0.8\"\n",
    "plt.rcParams.update({'font.size': 14})\n",
    "\n",
    "plt.rcParams[\"font.family\"] = \"Helvetica\"\n",
    "c4 = plt.cm.Reds(100)\n",
    "c3 = plt.cm.Reds(160)\n",
    "c2 = plt.cm.Reds(200)\n",
    "c1 = plt.cm.Reds(250)\n",
    "\n",
    "ctheor = 'gray'\n",
    "\n",
    "cols = [c1, c2, c3, c4]\n",
    "\n",
    "shift = 0\n",
    "d = - 0.325\n",
    "# in paper d = - 0.358\n",
    "gamma = 1.895\n",
    "#in paper gamma = 1.895\n",
    "ax = plt.subplot(111)\n",
    "\n",
    "ax.plot((cut +shift + np.arange(0,np.size(degree_freq_cut_cdf))) * (Nall**d),np.multiply(degree_freq_cut_cdf,np.arange(shift+cut,shift+cut+np.size(degree_freq_cut_cdf))**gamma),color = cols[0])\n",
    "ax.plot((cut + shift + np.arange(0,np.size(degree_freq_sub_25_cut_cdf)))* ((N25)**d), np.multiply(degree_freq_sub_25_cut_cdf,np.arange(shift+cut,shift+cut+np.size(degree_freq_sub_25_cut_cdf))**gamma),color = cols[1])\n",
    "ax.plot((cut  + shift + np.arange(0,np.size(degree_freq_sub_50_cut_cdf)))* ((N50)**d), np.multiply(degree_freq_sub_50_cut_cdf,np.arange(shift+cut,shift+cut+np.size(degree_freq_sub_50_cut_cdf))**gamma),color = cols[2])\n",
    "ax.plot((cut + shift+ np.arange(0,np.size(degree_freq_sub_75_cut_cdf)))* ((N75)**d), np.multiply(degree_freq_sub_75_cut_cdf,np.arange(shift+cut,shift+cut+np.size(degree_freq_sub_75_cut_cdf))**gamma),color = cols[3])\n",
    "ax.set_xlim(.6,80)\n",
    "ax.set_ylim(10,5*10**2)\n",
    "ax.set_xlabel(r'$k \\cdot N^d$')\n",
    "ax.set_ylabel(r'$(1 - \\mathrm{CDF}(k)) \\cdot k^\\gamma$')\n",
    "#ax.text(3.6, 18.6, r'$\\gamma = $' + str(gamma),fontsize=14)\n",
    "#ax.text(3.6, 29.6, r'$d =$ '+ str(d),fontsize=14)\n",
    "ax.text(3.6, 18.6, r'$\\gamma = 1.895$' ,fontsize=14)\n",
    "ax.text(3.6, 29.6, r'$d = -0.325$ ',fontsize=14)\n",
    "ax.set_xscale('log')\n",
    "ax.set_yscale('log')\n",
    "ax.spines['right'].set_visible(False)\n",
    "ax.spines['top'].set_visible(False)\n",
    "ax.yaxis.set_ticks_position('left')\n",
    "ax.xaxis.set_ticks_position('bottom')\n",
    "ax.grid(False)\n",
    "\n",
    "plt.savefig('scale-free_network_CDF_scaled.pdf',bbox_inches='tight')"
   ]
  },
  {
   "cell_type": "code",
   "execution_count": 12,
   "metadata": {},
   "outputs": [],
   "source": []
  },
  {
   "cell_type": "markdown",
   "metadata": {
    "pycharm": {
     "name": "#%% md\n"
    }
   },
   "source": [
    "## Subsampling scaling on the same data\n"
   ]
  },
  {
   "cell_type": "code",
   "execution_count": 25,
   "metadata": {},
   "outputs": [
    {
     "data": {
      "text/plain": "<Figure size 216x144 with 1 Axes>",
      "image/png": "[encoded data removed]"
     },
     "metadata": {
      "needs_background": "light"
     },
     "output_type": "display_data"
    }
   ],
   "source": [
    "fig = plt.figure(figsize=(3,2))\n",
    "\n",
    "plt.rcParams[\"axes.edgecolor\"] = \"k\"\n",
    "plt.rcParams[\"axes.facecolor\"] = \"w\"\n",
    "plt.rcParams[\"axes.linewidth\"] = \"0.8\"\n",
    "plt.rcParams.update({'font.size': 12})\n",
    "\n",
    "plt.rcParams['pdf.fonttype'] = 42 # prepare as vector graphic\n",
    "plt.rcParams['ps.fonttype'] = 42\n",
    "\n",
    "plt.rcParams[\"font.family\"] = \"Helvetica\"\n",
    "c5 = plt.cm.Reds(100)\n",
    "c4 = plt.cm.Reds(100)\n",
    "c3 = plt.cm.Reds(160)\n",
    "c2 = plt.cm.Reds(200)\n",
    "c1 = plt.cm.Reds(250)\n",
    "\n",
    "ctheor = 'gray'\n",
    "\n",
    "cols = [c1, c5, c4, c3, c2]\n",
    "\n",
    "ax = plt.subplot(111)\n",
    "\n",
    "#plt.plot(degrees[m:],np.array(degree_freq[m:])/2.0,'go-')\n",
    "m=17\n",
    "Mm = 4\n",
    "ax.plot(np.arange(m,np.size(degree_extrapolated))/NSize,np.array(logAvDataExtrapolated(degree_extrapolated[1:],Mm))[m-1:],color = cols[0])\n",
    "#ax.plot(np.arange(m,np.size(degree_freq_sub_25))/(NSize/4),np.array(degree_freq_sub_25[m:]),color = cols[1])\n",
    "#ax.plot(np.arange(m,np.size(degree_freq_sub_12))/(NSize/8),np.array(logAvDataExtrapolated(degree_freq_sub_12[1:],Mm))[m-1:],color = cols[1])\n",
    "ax.plot(np.arange(m,np.size(degree_freq_sub_25))/(NSize/4),np.array(logAvDataExtrapolated(degree_freq_sub_25[1:],Mm))[m-1:],color = cols[2])\n",
    "ax.plot(np.arange(m,np.size(degree_freq_sub_50))/(NSize/2),np.array(logAvDataExtrapolated(degree_freq_sub_50[1:],Mm))[m-1:],color = cols[3])\n",
    "ax.plot(np.arange(m,np.size(degree_freq_sub_75))/(3*NSize/4),np.array(logAvDataExtrapolated(degree_freq_sub_75[1:],Mm))[m-1:],color = cols[4])\n",
    "\n",
    "ax.plot(np.arange(m,np.size(degree_freq_sub_25))/(NSize/4),np.power(np.arange(m,np.size(degree_freq_sub_25))/(NSize/4),-2.85)/ 1000000,color = 'black')\n",
    "\n",
    "ax.set_xscale('log')\n",
    "ax.set_yscale('log')\n",
    "ax.spines['right'].set_visible(False)\n",
    "ax.spines['top'].set_visible(False)\n",
    "ax.yaxis.set_ticks_position('left')\n",
    "ax.xaxis.set_ticks_position('bottom')\n",
    "ax.grid(False)\n",
    "ax.set_xlim(10**(-4),0.05)\n",
    "ax.set_ylim(10**(-4),10**4)\n",
    "ax.set_xlabel(r'$k / N $')\n",
    "ax.set_ylabel(r'$P(k) \\cdot N$')\n",
    "\n",
    "xx = np.arange(1,NSize)\n",
    "xxpower = np.power(xx,-2.85)\n",
    "xxdist = xxpower/ sum(xxpower)\n",
    "#ax.plot(xx/10**4,xxdist* 10**5,'--', color = 'gray')\n",
    "plt.savefig('scale-free_network_PDF_scaled.pdf',bbox_inches='tight')"
   ]
  },
  {
   "cell_type": "code",
   "execution_count": 18,
   "outputs": [
    {
     "name": "stdout",
     "output_type": "stream",
     "text": [
      "[3.18033788e+12 2.67918381e+12 2.27802887e+12 1.95312500e+12\n",
      " 1.68718281e+12]\n"
     ]
    }
   ],
   "source": [
    "print (np.power(np.arange(m,np.size(degree_freq_sub_25))/(NSize/4),-3)[0:5]* 1000)"
   ],
   "metadata": {
    "collapsed": false,
    "pycharm": {
     "name": "#%%\n"
    }
   }
  },
  {
   "cell_type": "code",
   "execution_count": 15,
   "outputs": [
    {
     "data": {
      "text/plain": "<Figure size 216x144 with 1 Axes>",
      "image/png": "[encoded data removed]"
     },
     "metadata": {
      "needs_background": "light"
     },
     "output_type": "display_data"
    }
   ],
   "source": [
    "fig = plt.figure(figsize=(3,2))\n",
    "\n",
    "plt.rcParams[\"axes.edgecolor\"] = \"k\"\n",
    "plt.rcParams[\"axes.facecolor\"] = \"w\"\n",
    "plt.rcParams[\"axes.linewidth\"] = \"0.8\"\n",
    "plt.rcParams.update({'font.size': 12})\n",
    "\n",
    "plt.rcParams['pdf.fonttype'] = 42 # prepare as vector graphic\n",
    "plt.rcParams['ps.fonttype'] = 42\n",
    "\n",
    "plt.rcParams[\"font.family\"] = \"Helvetica\"\n",
    "c5 = plt.cm.Reds(100)\n",
    "c4 = plt.cm.Reds(100)\n",
    "c3 = plt.cm.Reds(160)\n",
    "c2 = plt.cm.Reds(200)\n",
    "c1 = plt.cm.Reds(250)\n",
    "\n",
    "ctheor = 'gray'\n",
    "\n",
    "cols = [c1, c5, c4, c3, c2]\n",
    "\n",
    "ax = plt.subplot(111)\n",
    "\n",
    "#plt.plot(degrees[m:],np.array(degree_freq[m:])/2.0,'go-')\n",
    "m=17\n",
    "Mm = 4\n",
    "CNorm = np.sum(np.array(logAvDataExtrapolated(degree_extrapolated[1:],Mm))[m-1:])\n",
    "\n",
    "ax.plot(np.arange(m,np.size(degree_extrapolated)),np.array(logAvDataExtrapolated(degree_extrapolated[1:],Mm))[m-1:]/CNorm,color = cols[0])\n",
    "#ax.plot(np.arange(m,np.size(degree_freq_sub_25))/(NSize/4),np.array(degree_freq_sub_25[m:]),color = cols[1])\n",
    "#ax.plot(np.arange(m,np.size(degree_freq_sub_12))/(NSize/8),np.array(logAvDataExtrapolated(degree_freq_sub_12[1:],Mm))[m-1:],color = cols[1])\n",
    "ax.plot(np.arange(m,np.size(degree_freq_sub_25)),np.array(logAvDataExtrapolated(degree_freq_sub_25[1:],Mm))[m-1:]/CNorm,color = cols[2])\n",
    "ax.plot(np.arange(m,np.size(degree_freq_sub_50)),np.array(logAvDataExtrapolated(degree_freq_sub_50[1:],Mm))[m-1:]/CNorm,color = cols[3])\n",
    "ax.plot(np.arange(m,np.size(degree_freq_sub_75)),np.array(logAvDataExtrapolated(degree_freq_sub_75[1:],Mm))[m-1:]/CNorm,color = cols[4])\n",
    "\n",
    "ax.set_xscale('log')\n",
    "ax.set_yscale('log')\n",
    "ax.spines['right'].set_visible(False)\n",
    "ax.spines['top'].set_visible(False)\n",
    "ax.yaxis.set_ticks_position('left')\n",
    "ax.xaxis.set_ticks_position('bottom')\n",
    "ax.grid(False)\n",
    "ax.set_xlim(m-2,2* 10**3)\n",
    "#ax.set_ylim(10**(-2),10**4)\n",
    "ax.set_xlabel(r'$k $')\n",
    "ax.set_ylabel(r'$P(k)$')\n",
    "\n",
    "#plt.plot(xx,xxdist*(10**5)*10,'black')\n",
    "plt.savefig('scale-free_network_PDF_unscaled_new.pdf',bbox_inches='tight')"
   ],
   "metadata": {
    "collapsed": false,
    "pycharm": {
     "name": "#%%\n"
    }
   }
  },
  {
   "cell_type": "code",
   "execution_count": 10,
   "metadata": {
    "pycharm": {
     "name": "#%%\n"
    }
   },
   "outputs": [],
   "source": []
  },
  {
   "cell_type": "code",
   "execution_count": 10,
   "metadata": {
    "pycharm": {
     "name": "#%%\n"
    }
   },
   "outputs": [],
   "source": []
  },
  {
   "cell_type": "code",
   "execution_count": 10,
   "outputs": [],
   "source": [],
   "metadata": {
    "collapsed": false,
    "pycharm": {
     "name": "#%%\n"
    }
   }
  },
  {
   "cell_type": "code",
   "execution_count": 10,
   "outputs": [],
   "source": [],
   "metadata": {
    "collapsed": false,
    "pycharm": {
     "name": "#%%\n"
    }
   }
  },
  {
   "cell_type": "code",
   "execution_count": null,
   "outputs": [],
   "source": [],
   "metadata": {
    "collapsed": false,
    "pycharm": {
     "name": "#%%\n"
    }
   }
  }
 ],
 "metadata": {
  "kernelspec": {
   "display_name": "Python 3 (ipykernel)",
   "language": "python",
   "name": "python3"
  },
  "language_info": {
   "codemirror_mode": {
    "name": "ipython",
    "version": 3
   },
   "file_extension": ".py",
   "mimetype": "text/x-python",
   "name": "python",
   "nbconvert_exporter": "python",
   "pygments_lexer": "ipython3",
   "version": "3.8.12"
  }
 },
 "nbformat": 4,
 "nbformat_minor": 1
}